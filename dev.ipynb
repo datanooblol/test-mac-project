{
 "cells": [
  {
   "cell_type": "code",
   "execution_count": 1,
   "id": "2e5009cf",
   "metadata": {},
   "outputs": [],
   "source": [
    "%load_ext autoreload\n",
    "%autoreload 2"
   ]
  },
  {
   "cell_type": "code",
   "execution_count": 2,
   "id": "c1822244",
   "metadata": {},
   "outputs": [],
   "source": [
    "from package.bedrock import BedrockChat\n",
    "from pocketflow import Node, Flow"
   ]
  },
  {
   "cell_type": "code",
   "execution_count": 3,
   "id": "1ebfc4e5",
   "metadata": {},
   "outputs": [],
   "source": [
    "import yaml"
   ]
  },
  {
   "cell_type": "code",
   "execution_count": 37,
   "id": "fa0c6cc3",
   "metadata": {},
   "outputs": [],
   "source": [
    "class InputNode(Node):\n",
    "    def __init__(self, model):\n",
    "        super().__init__()\n",
    "        self.model = model\n",
    "\n",
    "    def prep(self, shared):\n",
    "        user_input = input(\"You: \")\n",
    "        if user_input.lower() == \"exit\":\n",
    "            return None\n",
    "        \n",
    "        if \"messages\" not in shared:\n",
    "            shared['messages'] = []\n",
    "        \n",
    "        print(\"You: \", user_input)\n",
    "        return user_input\n",
    "\n",
    "    def exec(self, prep_res):\n",
    "        return prep_res\n",
    "    \n",
    "    def post(self, shared, prep_res, exec_res):\n",
    "        shared['messages'].append(self.model.UserMessage(text=prep_res))\n",
    "        if prep_res:\n",
    "            return \"router\"\n",
    "\n",
    "class RouterNode(Node):\n",
    "    def __init__(self, system_prompt, model):\n",
    "        super().__init__()\n",
    "        self.system_prompt = system_prompt\n",
    "        self.model = model\n",
    "\n",
    "    def prep(self, shared):\n",
    "        user_message = shared['messages'][-1]['content'][0]['text']\n",
    "        return user_message\n",
    "    \n",
    "    def exec(self, user_message):\n",
    "        response = self.model(system_prompt=self.system_prompt, messages=[self.model.UserMessage(text=user_message)])\n",
    "        yaml_str = response.split(\"```yaml\")[1].split(\"```\")[0].strip()\n",
    "        action = yaml.safe_load(yaml_str)\n",
    "        return action['action']\n",
    "\n",
    "    def post(self, shared, prep_res, exec_res):\n",
    "        shared['action'] = exec_res\n",
    "        return exec_res\n",
    "\n",
    "class AnswerNode(Node):\n",
    "    def __init__(self, system_prompt, model):\n",
    "        super().__init__()\n",
    "        self.system_prompt = system_prompt\n",
    "        self.model = model\n",
    "\n",
    "    def prep(self, shared):\n",
    "        return shared['messages']\n",
    "    \n",
    "    def exec(self, messages):\n",
    "        response = self.model(self.system_prompt, messages)\n",
    "        print(\"AI: \", response)\n",
    "        return response\n",
    "    \n",
    "    def post(self, shared, prep_res, exec_res):\n",
    "        shared[\"messages\"].append(self.model.AIMessage(text=exec_res))\n",
    "        return \"continue\"\n",
    "    "
   ]
  },
  {
   "cell_type": "code",
   "execution_count": 38,
   "id": "46b774e7",
   "metadata": {},
   "outputs": [],
   "source": [
    "router_prompt = \"\"\"\\\n",
    "classify a user's intent based on the input messages. \n",
    "Intent options are:\n",
    "1. continue if nothing goes wrong\n",
    "2. farewell if a user's message indicate that he or she wants to go somewhere\n",
    "\n",
    "Return your response in codeblock with this following yaml format:\n",
    "```yaml\n",
    "action: either continue or farewell\n",
    "```\n",
    "\n",
    "IMPORTANT: Make sure to:\n",
    "1. Use proper indentation (4 spaces) for all multi-line fields\n",
    "2. Use the | character for multi-line text fields\n",
    "3. Keep single-line fields without the | character\n",
    "\"\"\"\n",
    "\n",
    "answer_prompt = \"You are a helpful assistant\""
   ]
  },
  {
   "cell_type": "code",
   "execution_count": 39,
   "id": "4d2c4063",
   "metadata": {},
   "outputs": [],
   "source": [
    "model = BedrockChat()\n",
    "input_node = InputNode(model=model)\n",
    "router_node = RouterNode(router_prompt, model)\n",
    "answer_node = AnswerNode(answer_prompt, model)\n",
    "\n",
    "input_node - \"router\" >> router_node\n",
    "router_node - \"answer\" >> answer_node\n",
    "router_node - \"continue\" >> answer_node\n",
    "answer_node - \"continue\" >> input_node\n",
    "\n",
    "flow = Flow(start=input_node)"
   ]
  },
  {
   "cell_type": "code",
   "execution_count": 40,
   "id": "68589980",
   "metadata": {},
   "outputs": [
    {
     "name": "stdout",
     "output_type": "stream",
     "text": [
      "You:  Hi I gotta go.\n"
     ]
    },
    {
     "name": "stderr",
     "output_type": "stream",
     "text": [
      "/Users/pathompolnilchaikovit/Desktop/projects/test-mac-project/.venv/lib/python3.11/site-packages/pocketflow/__init__.py:44: UserWarning: Flow ends: 'farewell' not found in ['answer', 'continue']\n",
      "  if not nxt and curr.successors: warnings.warn(f\"Flow ends: '{action}' not found in {list(curr.successors)}\")\n"
     ]
    },
    {
     "data": {
      "text/plain": [
       "'farewell'"
      ]
     },
     "execution_count": 40,
     "metadata": {},
     "output_type": "execute_result"
    }
   ],
   "source": [
    "shared = {}\n",
    "\n",
    "flow.run(shared)"
   ]
  },
  {
   "cell_type": "code",
   "execution_count": 41,
   "id": "c45df530",
   "metadata": {},
   "outputs": [
    {
     "data": {
      "text/plain": [
       "{'messages': [{'role': 'user', 'content': [{'text': 'Hi I gotta go.'}]}],\n",
       " 'action': 'farewell'}"
      ]
     },
     "execution_count": 41,
     "metadata": {},
     "output_type": "execute_result"
    }
   ],
   "source": [
    "shared"
   ]
  },
  {
   "cell_type": "code",
   "execution_count": 42,
   "id": "878578fd",
   "metadata": {},
   "outputs": [
    {
     "name": "stderr",
     "output_type": "stream",
     "text": [
      "/Users/pathompolnilchaikovit/Desktop/projects/test-mac-project/.venv/lib/python3.11/site-packages/tqdm/auto.py:21: TqdmWarning: IProgress not found. Please update jupyter and ipywidgets. See https://ipywidgets.readthedocs.io/en/stable/user_install.html\n",
      "  from .autonotebook import tqdm as notebook_tqdm\n"
     ]
    }
   ],
   "source": [
    "from sentence_transformers import SentenceTransformer\n",
    "\n",
    "# Load model (will use MPS on Apple Silicon)\n",
    "model = SentenceTransformer('sentence-transformers/all-MiniLM-L6-v2')\n",
    "\n",
    "# Generate embeddings\n",
    "texts = [\"Hello world\", \"How are you?\"]\n",
    "embeddings = model.encode(texts)\n"
   ]
  },
  {
   "cell_type": "code",
   "execution_count": 43,
   "id": "32569288",
   "metadata": {},
   "outputs": [],
   "source": [
    "\n",
    "# Generate embeddings\n",
    "texts = [\"Hello world\", \"How are you?\"]\n",
    "embeddings = model.encode(texts)\n"
   ]
  },
  {
   "cell_type": "code",
   "execution_count": 38,
   "id": "a9803051",
   "metadata": {},
   "outputs": [],
   "source": [
    "from typing import Protocol\n",
    "import warnings, copy\n",
    "\n",
    "class TaskInterface(Protocol):\n",
    "    def next(self, task, action): pass\n",
    "\n",
    "class ConditionalTransition:\n",
    "    def __init__(self, task:TaskInterface, action:str):\n",
    "        self.task = task\n",
    "        self.action = action\n",
    "    def __rshift__(self, next_task):\n",
    "        return self.task.next(task=next_task, action=self.action)\n",
    "class BaseTask:\n",
    "    def __init__(self):\n",
    "        self.params = {}\n",
    "        self.successors = {}\n",
    "    def set_params(self, params):\n",
    "        self.params = params\n",
    "    def prep(self, shared): pass\n",
    "    def exec(self, prep_res): pass\n",
    "    def post(self, shared, prep_res, exec_res): pass\n",
    "    def _exec(self, prep_res): return self.exec(prep_res)\n",
    "    def _run(self, shared):\n",
    "        prep_res = self.prep(shared)\n",
    "        exec_res = self._exec(prep_res)\n",
    "        return self.post(shared, prep_res, exec_res)\n",
    "    def run(self, shared):\n",
    "        if self.successors:\n",
    "            warnings.warn(\"Use Flow instead\")\n",
    "        return self._run(shared)\n",
    "    def next(self, task, action='default'):\n",
    "        \"\"\"Register the next task in successors\"\"\"\n",
    "        if action in self.successors:\n",
    "            msg = f\"action: '{action}' replaced becuase it already exits\"\n",
    "            print(msg)\n",
    "        self.successors[action] = task\n",
    "        return task\n",
    "    def __sub__(self, action):\n",
    "        \"\"\"Add conditional action\"\"\"\n",
    "        if isinstance(action, str):\n",
    "            return ConditionalTransition(task=self, action=action)\n",
    "        raise TypeError(f\"action must be str, not {type(action)}\")\n",
    "    def __rshift__(self, other):\n",
    "        \"\"\"Using self.next to register the next task\"\"\"\n",
    "        return self.next(other)\n",
    "    \n",
    "class Task(BaseTask):\n",
    "    def __init__(self, max_retries=1, wait=0):\n",
    "        super().__init__()\n",
    "        self.max_retries = max_retries\n",
    "        self.wait = wait\n",
    "\n",
    "class Pipeline(BaseTask):\n",
    "    def __init__(self, start:BaseTask=None):\n",
    "        super().__init__()\n",
    "        self.start_node = start\n",
    "    def start(self, start):\n",
    "        self.start_node = start\n",
    "        return start\n",
    "    def get_next_task(self, current_task:BaseTask, next_action:str):\n",
    "        next_task = current_task.successors.get(next_action or \"default\")\n",
    "        if not next_task and current_task.successors:\n",
    "            warnings.warn(f\"Pipeline End, {next_action} not found\")\n",
    "        return next_task\n",
    "    def _orch(self, shared, params=None):\n",
    "        current_task = copy.copy(self.start_node)\n",
    "        params = params or {**self.params}\n",
    "        next_action = None\n",
    "        while current_task:\n",
    "            current_task.set_params(params)\n",
    "            next_action = current_task._run(shared)\n",
    "            current_task = copy.copy(self.get_next_task(current_task=current_task, next_action=next_action))\n",
    "        return next_action\n",
    "    def _run(self, shared):\n",
    "        prep_res = self.prep(shared)\n",
    "        orch_res = self._orch(shared)\n",
    "        return self.post(shared, prep_res, orch_res)\n",
    "    def post(self, shared, prep_res, exec_res):\n",
    "        return exec_res\n",
    "\n",
    "class Test1(Task):\n",
    "    def prep(self, shared):\n",
    "        return \"test1\"\n",
    "    def exec(self, prep_res):\n",
    "        return prep_res\n",
    "    def post(self, shared, prep_res, exec_res):\n",
    "        print(exec_res)\n",
    "        return \"to task2\"\n",
    "    \n",
    "class Test2(Task):\n",
    "    def prep(self, shared):\n",
    "        return \"test2\"\n",
    "    def exec(self, prep_res):\n",
    "        return prep_res\n",
    "    def post(self, shared, prep_res, exec_res):\n",
    "        print(exec_res)\n",
    "        return \"end\"\n",
    "    \n",
    "class End(Task):\n",
    "    def prep(self, shared):\n",
    "        return \"End for all\"\n",
    "    def exec(self, prep_res):\n",
    "        return prep_res\n",
    "    def post(self, shared, prep_res, exec_res):\n",
    "        print(exec_res)\n",
    "        return exec_res"
   ]
  },
  {
   "cell_type": "code",
   "execution_count": 39,
   "id": "d4b7c8a5",
   "metadata": {},
   "outputs": [],
   "source": [
    "test1 = Test1()\n",
    "test2 = Test2()\n",
    "end = End()"
   ]
  },
  {
   "cell_type": "code",
   "execution_count": 40,
   "id": "1760f9df",
   "metadata": {},
   "outputs": [
    {
     "name": "stdout",
     "output_type": "stream",
     "text": [
      "test1\n",
      "test2\n",
      "End for all\n"
     ]
    },
    {
     "data": {
      "text/plain": [
       "'End for all'"
      ]
     },
     "execution_count": 40,
     "metadata": {},
     "output_type": "execute_result"
    }
   ],
   "source": [
    "shared = {}\n",
    "\n",
    "test1.run(shared)\n",
    "test2.run(shared)\n",
    "end.run(shared)"
   ]
  },
  {
   "cell_type": "code",
   "execution_count": 41,
   "id": "1f101262",
   "metadata": {},
   "outputs": [
    {
     "data": {
      "text/plain": [
       "<__main__.End at 0x11a495710>"
      ]
     },
     "execution_count": 41,
     "metadata": {},
     "output_type": "execute_result"
    }
   ],
   "source": [
    "test1 - \"to task2\" >> test2\n",
    "test2 - \"end\" >> end"
   ]
  },
  {
   "cell_type": "code",
   "execution_count": 42,
   "id": "3e4f2a0e",
   "metadata": {},
   "outputs": [],
   "source": [
    "pl = Pipeline(start=test1)"
   ]
  },
  {
   "cell_type": "code",
   "execution_count": 43,
   "id": "0aecc211",
   "metadata": {},
   "outputs": [
    {
     "name": "stdout",
     "output_type": "stream",
     "text": [
      "test1\n",
      "test2\n",
      "End for all\n"
     ]
    },
    {
     "data": {
      "text/plain": [
       "'End for all'"
      ]
     },
     "execution_count": 43,
     "metadata": {},
     "output_type": "execute_result"
    }
   ],
   "source": [
    "pl.run(shared)"
   ]
  },
  {
   "cell_type": "code",
   "execution_count": null,
   "id": "c1706320",
   "metadata": {},
   "outputs": [],
   "source": []
  }
 ],
 "metadata": {
  "kernelspec": {
   "display_name": "test-mac-project",
   "language": "python",
   "name": "python3"
  },
  "language_info": {
   "codemirror_mode": {
    "name": "ipython",
    "version": 3
   },
   "file_extension": ".py",
   "mimetype": "text/x-python",
   "name": "python",
   "nbconvert_exporter": "python",
   "pygments_lexer": "ipython3",
   "version": "3.11.13"
  }
 },
 "nbformat": 4,
 "nbformat_minor": 5
}
